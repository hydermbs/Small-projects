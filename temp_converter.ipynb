{
  "nbformat": 4,
  "nbformat_minor": 0,
  "metadata": {
    "colab": {
      "provenance": [],
      "authorship_tag": "ABX9TyM1hQTKRW+FZB4Nj3ucR6yJ",
      "include_colab_link": true
    },
    "kernelspec": {
      "name": "python3",
      "display_name": "Python 3"
    },
    "language_info": {
      "name": "python"
    }
  },
  "cells": [
    {
      "cell_type": "markdown",
      "metadata": {
        "id": "view-in-github",
        "colab_type": "text"
      },
      "source": [
        "<a href=\"https://colab.research.google.com/github/hydermbs/Small-projects/blob/main/temp_converter.ipynb\" target=\"_parent\"><img src=\"https://colab.research.google.com/assets/colab-badge.svg\" alt=\"Open In Colab\"/></a>"
      ]
    },
    {
      "cell_type": "markdown",
      "source": [
        "# **Convert Fahrenheit to Celsius**\n",
        "# **Convert Celsius to Farenheit**\n",
        "\n"
      ],
      "metadata": {
        "id": "cKrHDyQbBDWK"
      }
    },
    {
      "cell_type": "code",
      "source": [
        "#we will define a function.\n",
        "def convert(temp):\n",
        "  c = (t-32)*5/9\n",
        "  f = (t*9/5)+32\n",
        "  if temp == 'c':\n",
        "    return c\n",
        "  if temp == 'f':\n",
        "    return f\n",
        "temp=str(input('Enter format you want to convert to: '))\n",
        "t = float(input('Enter Temprature: '))\n",
        "convert(temp)"
      ],
      "metadata": {
        "colab": {
          "base_uri": "https://localhost:8080/"
        },
        "id": "9I6M0DDdOqmz",
        "outputId": "fb1a366a-596e-4215-8ae4-3ec60c693947"
      },
      "execution_count": 17,
      "outputs": [
        {
          "name": "stdout",
          "output_type": "stream",
          "text": [
            "Enter format you want to convert to: f\n",
            "Enter Temprature: 25.5\n"
          ]
        },
        {
          "output_type": "execute_result",
          "data": {
            "text/plain": [
              "77.9"
            ]
          },
          "metadata": {},
          "execution_count": 17
        }
      ]
    }
  ]
}