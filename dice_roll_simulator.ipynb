{
  "nbformat": 4,
  "nbformat_minor": 0,
  "metadata": {
    "colab": {
      "name": "dice_roll_simulator.ipynb",
      "provenance": [],
      "authorship_tag": "ABX9TyPcMRSqJUhU8TLSGVIvZ469",
      "include_colab_link": true
    },
    "kernelspec": {
      "name": "python3",
      "display_name": "Python 3"
    },
    "language_info": {
      "name": "python"
    }
  },
  "cells": [
    {
      "cell_type": "markdown",
      "metadata": {
        "id": "view-in-github",
        "colab_type": "text"
      },
      "source": [
        "<a href=\"https://colab.research.google.com/github/hydermbs/Small-projects/blob/main/dice_roll_simulator.ipynb\" target=\"_parent\"><img src=\"https://colab.research.google.com/assets/colab-badge.svg\" alt=\"Open In Colab\"/></a>"
      ]
    },
    {
      "cell_type": "markdown",
      "source": [
        "# **Dice Roll Simulator with Python**\n"
      ],
      "metadata": {
        "id": "eyWcK0LnUf--"
      }
    },
    {
      "cell_type": "code",
      "execution_count": 2,
      "metadata": {
        "colab": {
          "base_uri": "https://localhost:8080/"
        },
        "id": "RCJEU5rCUbHd",
        "outputId": "f4cd2740-7b51-4680-9fd3-1eddc4f890ed"
      },
      "outputs": [
        {
          "name": "stdout",
          "output_type": "stream",
          "text": [
            "Rolling the dice....\n",
            "Your values are......\n",
            "3\n",
            "3\n",
            "Write yes to roll again: yes\n",
            "Rolling the dice....\n",
            "Your values are......\n",
            "5\n",
            "5\n",
            "Write yes to roll again: yes\n",
            "Rolling the dice....\n",
            "Your values are......\n",
            "6\n",
            "4\n",
            "Write yes to roll again: no\n"
          ]
        }
      ],
      "source": [
        "#import random module first\n",
        "import random\n",
        "\n",
        "#assign min and max value\n",
        "min_val=1\n",
        "max_val = 6\n",
        "\n",
        "#to loop the rolling through user input\n",
        "roll_again = 'yes'\n",
        "\n",
        "#run a while loop\n",
        "while roll_again=='yes' or roll_again=='y':\n",
        "  print('Rolling the dice....')\n",
        "  print('Your values are......')\n",
        "  #print 1st random number\n",
        "  print(random.randint(min_val,max_val))\n",
        "  #print 2nd random number\n",
        "  print(random.randint(min_val,max_val))\n",
        "\n",
        " #asking user to roll the dice again. Any input other than yes or y will terminate the loop\n",
        "  roll_again=input('Write yes to roll again: ')"
      ]
    }
  ]
}