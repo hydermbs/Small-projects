{
  "nbformat": 4,
  "nbformat_minor": 0,
  "metadata": {
    "colab": {
      "name": "quiz_game.ipynb",
      "provenance": [],
      "authorship_tag": "ABX9TyPGuYUytZG/U5W/VJAyXAWH",
      "include_colab_link": true
    },
    "kernelspec": {
      "name": "python3",
      "display_name": "Python 3"
    },
    "language_info": {
      "name": "python"
    }
  },
  "cells": [
    {
      "cell_type": "markdown",
      "metadata": {
        "id": "view-in-github",
        "colab_type": "text"
      },
      "source": [
        "<a href=\"https://colab.research.google.com/github/hydermbs/Small-projects/blob/main/quiz_game.ipynb\" target=\"_parent\"><img src=\"https://colab.research.google.com/assets/colab-badge.svg\" alt=\"Open In Colab\"/></a>"
      ]
    },
    {
      "cell_type": "markdown",
      "source": [
        "# **Quiz Game In Python**"
      ],
      "metadata": {
        "id": "JeiDpg_XLRWX"
      }
    },
    {
      "cell_type": "code",
      "execution_count": 6,
      "metadata": {
        "colab": {
          "base_uri": "https://localhost:8080/"
        },
        "id": "UWVoRxRbLOrz",
        "outputId": "6646ec65-6f77-466b-a72e-65557099dd00"
      },
      "outputs": [
        {
          "output_type": "stream",
          "name": "stdout",
          "text": [
            "Guess The animals \n",
            "\n",
            "Which bear lives at the North Pole? dog\n",
            "Sorry wrong answer, Try Again! polar bear\n",
            "Answer is correct\n",
            "Which is the fastest land animal? cheetah\n",
            "Answer is correct\n",
            "Which is the larget animal? elephant\n",
            "Sorry wrong answer, Try Again! giraffe\n",
            "Sorry wrong answer, Try Again! cow\n",
            "The Correct Answer is  Blue Whale\n",
            "\n",
            "\n",
            "Your Score is 2\n"
          ]
        }
      ],
      "source": [
        "def check_guess(guess,answer):\n",
        "  global score\n",
        "  still_guessing = True\n",
        "  attempt = 0\n",
        "  while still_guessing and attempt<3:\n",
        "    if guess.lower()==answer.lower():\n",
        "      print('Answer is correct')\n",
        "      score+=1\n",
        "      still_guessing=False\n",
        "    else:\n",
        "      if attempt<2:\n",
        "        guess= input('Sorry wrong answer, Try Again! ')\n",
        "        \n",
        "      attempt=attempt+1\n",
        "    if attempt==3:\n",
        "      print('The Correct Answer is ',answer)\n",
        "score = 0\n",
        "\n",
        "print('Guess The animals \\n')\n",
        "guess1 = input(\"Which bear lives at the North Pole? \")\n",
        "check_guess(guess1,'polar bear')\n",
        "guess2 = input(\"Which is the fastest land animal? \")\n",
        "check_guess(guess2, \"Cheetah\")\n",
        "guess3 = input(\"Which is the larget animal? \")\n",
        "check_guess(guess3, \"Blue Whale\")\n",
        "print('\\n')\n",
        "print(\"Your Score is \"+ str(score))\n"
      ]
    }
  ]
}