{
  "nbformat": 4,
  "nbformat_minor": 0,
  "metadata": {
    "colab": {
      "name": "Acronyms Generator.ipynb",
      "provenance": [],
      "authorship_tag": "ABX9TyMxfcVJhU0PBip+VqiD2D6D",
      "include_colab_link": true
    },
    "kernelspec": {
      "name": "python3",
      "display_name": "Python 3"
    },
    "language_info": {
      "name": "python"
    }
  },
  "cells": [
    {
      "cell_type": "markdown",
      "metadata": {
        "id": "view-in-github",
        "colab_type": "text"
      },
      "source": [
        "<a href=\"https://colab.research.google.com/github/hydermbs/Small-projects/blob/main/Acronyms_Generator.ipynb\" target=\"_parent\"><img src=\"https://colab.research.google.com/assets/colab-badge.svg\" alt=\"Open In Colab\"/></a>"
      ]
    },
    {
      "cell_type": "markdown",
      "source": [
        "# Create Acronyms Using Python\n",
        "\n",
        "###To create acronyms using Python, you need to write a python program that generates a short form of a word from a given sentence. You can do this by splitting and indexing to get the first word and then combine it. Let’s see how to create an acronym using Python"
      ],
      "metadata": {
        "id": "eGCtQReO_fSi"
      }
    },
    {
      "cell_type": "code",
      "execution_count": 4,
      "metadata": {
        "colab": {
          "base_uri": "https://localhost:8080/"
        },
        "id": "CFFBT6Lo9iPY",
        "outputId": "833508e4-c1fa-44b9-9eea-23f5f8ed709d"
      },
      "outputs": [
        {
          "output_type": "stream",
          "name": "stdout",
          "text": [
            "Artifical Intelligence\n",
            " AI\n"
          ]
        }
      ],
      "source": [
        "user_text= str(input())\n",
        "text = user_text.split()\n",
        "a = \" \"\n",
        "for i in text:\n",
        "  a= a+str(i[0].upper())\n",
        "print(a)"
      ]
    }
  ]
}