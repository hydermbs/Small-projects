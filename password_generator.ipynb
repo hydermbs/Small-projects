{
  "nbformat": 4,
  "nbformat_minor": 0,
  "metadata": {
    "colab": {
      "name": "password_generator.ipynb",
      "provenance": [],
      "collapsed_sections": [],
      "authorship_tag": "ABX9TyNc5Gh7rMb1/d+sya5zZJeS",
      "include_colab_link": true
    },
    "kernelspec": {
      "name": "python3",
      "display_name": "Python 3"
    },
    "language_info": {
      "name": "python"
    }
  },
  "cells": [
    {
      "cell_type": "markdown",
      "metadata": {
        "id": "view-in-github",
        "colab_type": "text"
      },
      "source": [
        "<a href=\"https://colab.research.google.com/github/hydermbs/Small-projects/blob/main/password_generator.ipynb\" target=\"_parent\"><img src=\"https://colab.research.google.com/assets/colab-badge.svg\" alt=\"Open In Colab\"/></a>"
      ]
    },
    {
      "cell_type": "markdown",
      "source": [
        "# **Python Program to Generate Password** \n",
        "\n",
        "To write a Python program to create a password\n",
        "\n",
        ", declare a string of numbers + uppercase + \n",
        "\n",
        "lowercase + special characters. \n",
        "\n",
        "Take a random sample of the string of a length given by the user:"
      ],
      "metadata": {
        "id": "MHhaAcjKME3x"
      }
    },
    {
      "cell_type": "code",
      "source": [
        "#import random first\n",
        "import random\n",
        "#take a password length as int\n",
        "passlen= int(input('Enter Password length \\n'))\n",
        "# take a sample of characters\n",
        "s = \"abcdefghijklmnopqrstuvwxyz1234567890ABCDEFGHIJKLMNOPQRSTUVWXYZ!@#$%^&*()?\"\n",
        "# join them with random function\n",
        "password= \"\".join(random.sample(s,passlen))\n",
        "print('Your Password is: ',password)"
      ],
      "metadata": {
        "id": "j5IW_RicPvoT",
        "colab": {
          "base_uri": "https://localhost:8080/"
        },
        "outputId": "712581cd-3ff8-48f0-862c-6c1a8abd8e70"
      },
      "execution_count": 7,
      "outputs": [
        {
          "output_type": "stream",
          "name": "stdout",
          "text": [
            "Enter Password length \n",
            "25\n",
            "Your Password is:  1Jq@hoU?0YcDdQ%$L(CaZwyrP\n"
          ]
        }
      ]
    }
  ]
}