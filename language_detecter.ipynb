{
  "nbformat": 4,
  "nbformat_minor": 0,
  "metadata": {
    "colab": {
      "provenance": [],
      "authorship_tag": "ABX9TyMKuP+nRdnfhBdvpLFsaAUV",
      "include_colab_link": true
    },
    "kernelspec": {
      "name": "python3",
      "display_name": "Python 3"
    },
    "language_info": {
      "name": "python"
    }
  },
  "cells": [
    {
      "cell_type": "markdown",
      "metadata": {
        "id": "view-in-github",
        "colab_type": "text"
      },
      "source": [
        "<a href=\"https://colab.research.google.com/github/hydermbs/Small-projects/blob/main/language_detecter.ipynb\" target=\"_parent\"><img src=\"https://colab.research.google.com/assets/colab-badge.svg\" alt=\"Open In Colab\"/></a>"
      ]
    },
    {
      "cell_type": "markdown",
      "source": [
        "# **Language Detecter In Python**"
      ],
      "metadata": {
        "id": "_4VKDJltzm3e"
      }
    },
    {
      "cell_type": "code",
      "execution_count": 13,
      "metadata": {
        "colab": {
          "base_uri": "https://localhost:8080/"
        },
        "id": "Kv67PYcwxH29",
        "outputId": "9ccabefc-5bd9-4b2b-82fa-cae5d77029f6"
      },
      "outputs": [
        {
          "output_type": "stream",
          "name": "stdout",
          "text": [
            "Enter your Text here: benim adım Haydar\n",
            "tr\n"
          ]
        }
      ],
      "source": [
        "#importing libraries\n",
        "from langdetect import detect\n",
        "\n",
        "# take input\n",
        "text = input('Enter your Text here: ')\n",
        "#print output\n",
        "print(detect(text))"
      ]
    }
  ]
}