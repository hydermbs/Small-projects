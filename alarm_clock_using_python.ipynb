{
  "nbformat": 4,
  "nbformat_minor": 0,
  "metadata": {
    "colab": {
      "name": "alarm_clock_using_python.ipynb",
      "provenance": [],
      "authorship_tag": "ABX9TyMTDh056DY+tiCr/E8eVmMW",
      "include_colab_link": true
    },
    "kernelspec": {
      "name": "python3",
      "display_name": "Python 3"
    },
    "language_info": {
      "name": "python"
    }
  },
  "cells": [
    {
      "cell_type": "markdown",
      "metadata": {
        "id": "view-in-github",
        "colab_type": "text"
      },
      "source": [
        "<a href=\"https://colab.research.google.com/github/hydermbs/Small-projects/blob/main/alarm_clock_using_python.ipynb\" target=\"_parent\"><img src=\"https://colab.research.google.com/assets/colab-badge.svg\" alt=\"Open In Colab\"/></a>"
      ]
    },
    {
      "cell_type": "markdown",
      "source": [
        "#Alarm Clock Using Python\n",
        "### In this project i have tried to make an alarm clock using python programing language."
      ],
      "metadata": {
        "id": "QX1-L9_FBlse"
      }
    },
    {
      "cell_type": "code",
      "source": [
        "#Import Libraries\n",
        "from datetime import datetime\n",
        "from IPython.display import Audio"
      ],
      "metadata": {
        "id": "PTw3fui2JwLU"
      },
      "execution_count": 46,
      "outputs": []
    },
    {
      "cell_type": "code",
      "source": [
        "\"\"\"imported Timezone Library because I am using Google Colab,\n",
        "If you are using on local server no need to import timezone\"\"\"\n",
        "import pytz\n",
        "tz= pytz.timezone('Asia/Karachi')\n",
        "\n",
        "#giving path of Audio\n",
        "audio = '/content/mixkit-scanning-sci-fi-alarm-905.wav'\n",
        "\n",
        "#Setting up alarm\n",
        "alarm_time = input('Set Alarm time as hh:mm:ss \\n')\n",
        "print('Setting up alarm...')\n",
        "\n",
        "#It contains a while loop with a Boolean function True which makes the program automatic to work.\n",
        "while True:\n",
        "  now= datetime.now(tz)\n",
        "  current_time=now.strftime(\"%H:%M:%S%p\")\n",
        "  if alarm_time==current_time:\n",
        "    print('Wake up!!')\n",
        "    Audio(audio,autoplay=True)\n",
        "    break"
      ],
      "metadata": {
        "colab": {
          "base_uri": "https://localhost:8080/"
        },
        "id": "c2bQUgriNNxA",
        "outputId": "d99f3729-c8bd-405d-e49b-860872ae37d7"
      },
      "execution_count": 48,
      "outputs": [
        {
          "output_type": "stream",
          "name": "stdout",
          "text": [
            "Set Alarm time as hh:mm:ss \n",
            "08:17:00AM\n",
            "Setting up alarm...\n",
            "Wake up!!\n"
          ]
        }
      ]
    }
  ]
}