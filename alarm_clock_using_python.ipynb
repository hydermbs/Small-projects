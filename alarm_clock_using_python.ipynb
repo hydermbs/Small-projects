{
  "nbformat": 4,
  "nbformat_minor": 0,
  "metadata": {
    "colab": {
      "name": "alarm_clock_using_python.ipynb",
      "provenance": [],
      "authorship_tag": "ABX9TyNWWzSLQ5fKEgoN5ocp6kfu",
      "include_colab_link": true
    },
    "kernelspec": {
      "name": "python3",
      "display_name": "Python 3"
    },
    "language_info": {
      "name": "python"
    }
  },
  "cells": [
    {
      "cell_type": "markdown",
      "metadata": {
        "id": "view-in-github",
        "colab_type": "text"
      },
      "source": [
        "<a href=\"https://colab.research.google.com/github/hydermbs/Small-projects/blob/main/alarm_clock_using_python.ipynb\" target=\"_parent\"><img src=\"https://colab.research.google.com/assets/colab-badge.svg\" alt=\"Open In Colab\"/></a>"
      ]
    },
    {
      "cell_type": "markdown",
      "source": [
        "#Alarm Clock Using Python\n",
        "### In this project i have tried to make an alarm clock using python programing language."
      ],
      "metadata": {
        "id": "QX1-L9_FBlse"
      }
    },
    {
      "cell_type": "code",
      "source": [
        "#Import Libraries\n",
        "from datetime import datetime\n",
        "from IPython.display import Audio\n",
        "import numpy as np"
      ],
      "metadata": {
        "id": "PTw3fui2JwLU"
      },
      "execution_count": null,
      "outputs": []
    },
    {
      "cell_type": "code",
      "source": [
        "\"\"\"imported Timezone Library because I am using Google Colab,\n",
        "If you are using on local server no need to import timezone\"\"\"\n",
        "import pytz\n",
        "tz= pytz.timezone('Asia/Karachi')\n",
        "\n",
        "#giving path of Audio\n",
        "framerate = 44100\n",
        "t = np.linspace(0,5,framerate*5)\n",
        "data = np.sin(2*np.pi*220*t) + np.sin(2*np.pi*224*t)\n",
        "audio= '/content/mixkit-scanning-sci-fi-alarm-905.wav'\n",
        "\n",
        "#Setting up alarm\n",
        "alarm_time = input('Set Alarm time as hh:mm:ss \\n')\n",
        "print('Setting up alarm...')\n",
        "\n",
        "#It contains a while loop with a Boolean function True which makes the program automatic to work.\n",
        "while True:\n",
        "  now= datetime.now(tz)\n",
        "  current_time=now.strftime(\"%H:%M:%S%p\")\n",
        "  if alarm_time==current_time:\n",
        "    print('Wake up!!')\n",
        "    Audio(data,rate=framerate,filename=audio,autoplay=True)\n",
        "    break"
      ],
      "metadata": {
        "colab": {
          "base_uri": "https://localhost:8080/"
        },
        "id": "c2bQUgriNNxA",
        "outputId": "139883b6-ea8f-4798-a273-0916da040851"
      },
      "execution_count": 9,
      "outputs": [
        {
          "output_type": "stream",
          "name": "stdout",
          "text": [
            "Set Alarm time as hh:mm:ss \n",
            "11:07:00AM\n",
            "Setting up alarm...\n",
            "Wake up!!\n"
          ]
        }
      ]
    }
  ]
}