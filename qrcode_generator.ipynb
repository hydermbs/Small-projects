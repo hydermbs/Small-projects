{
  "nbformat": 4,
  "nbformat_minor": 0,
  "metadata": {
    "colab": {
      "name": "qrcode_generator.ipynb",
      "provenance": [],
      "authorship_tag": "ABX9TyOXs/sxeJnzhp6XEwYkJcyu",
      "include_colab_link": true
    },
    "kernelspec": {
      "name": "python3",
      "display_name": "Python 3"
    },
    "language_info": {
      "name": "python"
    }
  },
  "cells": [
    {
      "cell_type": "markdown",
      "metadata": {
        "id": "view-in-github",
        "colab_type": "text"
      },
      "source": [
        "<a href=\"https://colab.research.google.com/github/hydermbs/Small-projects/blob/main/qrcode_generator.ipynb\" target=\"_parent\"><img src=\"https://colab.research.google.com/assets/colab-badge.svg\" alt=\"Open In Colab\"/></a>"
      ]
    },
    {
      "cell_type": "markdown",
      "source": [
        "# **QR CODE GENERATOR**"
      ],
      "metadata": {
        "id": "cSPVuB8aCk5o"
      }
    },
    {
      "cell_type": "code",
      "execution_count": null,
      "metadata": {
        "id": "BMMQeydrCeIw"
      },
      "outputs": [],
      "source": [
        "import pyqrcode\n",
        "from pyqrcode import QRCode\n",
        "\n",
        "#Assign string for QR code\n",
        "s = 'https://www.youtube.com/channel/UCIO30JGSI96LFYBCZJA6RpQ'\n",
        "\n",
        "#Create QR code code.\n",
        "link = pyqrcode.create(s)\n",
        "\n",
        "#create and save in png\n",
        "link.svg('My Channel.svg',scale=8)"
      ]
    }
  ]
}