{
  "nbformat": 4,
  "nbformat_minor": 0,
  "metadata": {
    "colab": {
      "name": "Story Generator.ipynb",
      "provenance": [],
      "authorship_tag": "ABX9TyP3sfGYvDRWWRrqxAnIIjPO",
      "include_colab_link": true
    },
    "kernelspec": {
      "name": "python3",
      "display_name": "Python 3"
    },
    "language_info": {
      "name": "python"
    }
  },
  "cells": [
    {
      "cell_type": "markdown",
      "metadata": {
        "id": "view-in-github",
        "colab_type": "text"
      },
      "source": [
        "<a href=\"https://colab.research.google.com/github/hydermbs/Small-projects/blob/main/Story_Generator.ipynb\" target=\"_parent\"><img src=\"https://colab.research.google.com/assets/colab-badge.svg\" alt=\"Open In Colab\"/></a>"
      ]
    },
    {
      "cell_type": "markdown",
      "source": [
        "# **Story Generator Project in Python**\n",
        "\n",
        "Our task is to generate a random story every time \n",
        "\n",
        "the user runs the program. I will first store the\n",
        "\n",
        " parts of the stories in different lists, then the\n",
        " \n",
        " Random module can be used to select the random parts\n",
        " \n",
        "  of the story stored in different lists"
      ],
      "metadata": {
        "id": "cWr0IW5f-GZ4"
      }
    },
    {
      "cell_type": "code",
      "execution_count": 12,
      "metadata": {
        "id": "7Tywi5Tg8am9",
        "colab": {
          "base_uri": "https://localhost:8080/"
        },
        "outputId": "69fd2d85-8626-4b74-c4e5-d3ea28d60bec"
      },
      "outputs": [
        {
          "output_type": "stream",
          "name": "stdout",
          "text": [
            "few days ago , Nisha lived at Dhaka went to University to meet friends\n"
          ]
        }
      ],
      "source": [
        "import random\n",
        "\n",
        "#make a lists of random parts\n",
        "when = ['a time ago', 'yesterday', 'few days ago', 'on 21st of june']\n",
        "who = ['Ali','Alen','John','Nisha']\n",
        "residence = ['Karachi','Barcelona','Mumbai','Dhaka']\n",
        "went = ['Cinema','University','Hotel','Laundry']\n",
        "activity = ['Eat Burger','Watch Movie','Study python','meet friends']\n",
        "print(random.choice(when),',', random.choice(who),'lived at',\n",
        "      random.choice(residence),'went to',random.choice(went),'to',\n",
        "      random.choice(activity))"
      ]
    }
  ]
}