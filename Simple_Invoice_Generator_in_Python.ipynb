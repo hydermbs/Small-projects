{
  "nbformat": 4,
  "nbformat_minor": 0,
  "metadata": {
    "colab": {
      "name": "Simple Invoice Generator in Python.ipynb",
      "provenance": [],
      "collapsed_sections": [],
      "authorship_tag": "ABX9TyMXxC7iBlVERbyXyg2unlRB",
      "include_colab_link": true
    },
    "kernelspec": {
      "name": "python3",
      "display_name": "Python 3"
    },
    "language_info": {
      "name": "python"
    }
  },
  "cells": [
    {
      "cell_type": "markdown",
      "metadata": {
        "id": "view-in-github",
        "colab_type": "text"
      },
      "source": [
        "<a href=\"https://colab.research.google.com/github/hydermbs/Small-projects/blob/main/Simple_Invoice_Generator_in_Python.ipynb\" target=\"_parent\"><img src=\"https://colab.research.google.com/assets/colab-badge.svg\" alt=\"Open In Colab\"/></a>"
      ]
    },
    {
      "cell_type": "code",
      "execution_count": 4,
      "metadata": {
        "colab": {
          "base_uri": "https://localhost:8080/"
        },
        "id": "pGSyIgNRqpJ6",
        "outputId": "27b0d48e-af61-4076-a52f-aefcb4db3a55"
      },
      "outputs": [
        {
          "output_type": "stream",
          "name": "stdout",
          "text": [
            "Enter Item name Lux\n",
            "Enter Item Price 100\n",
            "Enter Item Qty 2\n",
            "Enter Item name Lifeboy\n",
            "Enter Item Price 100\n",
            "Enter Item Qty 2\n",
            "Enter Item name Tapal\n",
            "Enter Item Price 100\n",
            "Enter Item Qty 3\n",
            "Enter Item name Pen\n",
            "Enter Item Price 20\n",
            "Enter Item Qty 5\n",
            "Enter Item name done\n",
            "\n",
            "\n",
            "('Lux', 2, 100, 200)\n",
            "('Lifeboy', 2, 100, 200)\n",
            "('Tapal', 3, 100, 300)\n",
            "('Pen', 5, 20, 100)\n",
            "Your total bill is: 800\n"
          ]
        }
      ],
      "source": [
        "def invoice():\n",
        "  sub_total=[]\n",
        "  total_print=[]\n",
        "  net_bill = 0\n",
        "  \n",
        "  for i in range(1000):\n",
        "    item = str(input('Enter Item name '))\n",
        "    if item=='done':\n",
        "      break\n",
        "    else:\n",
        "\n",
        "      item_price = int(input('Enter Item Price '))\n",
        "      item_qty = int(input('Enter Item Qty '))\n",
        "      item_total= (item_qty * item_price)\n",
        "      sub_total.insert(i,item_total)\n",
        "      print_1 = item, item_qty, item_price, item_total\n",
        "      total_print.insert(i, print_1)\n",
        "  print('\\n')\n",
        "  for i in total_print:\n",
        "    print(i)\n",
        "  for i in range(0,len(sub_total)):\n",
        "    net_bill =net_bill + sub_total[i]\n",
        "  print('Your total bill is:',net_bill)\n",
        "    \n",
        "invoice()"
      ]
    }
  ]
}