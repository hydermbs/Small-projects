{
  "nbformat": 4,
  "nbformat_minor": 0,
  "metadata": {
    "colab": {
      "name": "Simple Invoice Generator in Python.ipynb",
      "provenance": [],
      "authorship_tag": "ABX9TyMPWCBPes6Tp/0F4d1xSO3Z",
      "include_colab_link": true
    },
    "kernelspec": {
      "name": "python3",
      "display_name": "Python 3"
    },
    "language_info": {
      "name": "python"
    }
  },
  "cells": [
    {
      "cell_type": "markdown",
      "metadata": {
        "id": "view-in-github",
        "colab_type": "text"
      },
      "source": [
        "<a href=\"https://colab.research.google.com/github/hydermbs/Small-projects/blob/main/Simple_Invoice_Generator_in_Python.ipynb\" target=\"_parent\"><img src=\"https://colab.research.google.com/assets/colab-badge.svg\" alt=\"Open In Colab\"/></a>"
      ]
    },
    {
      "cell_type": "code",
      "execution_count": 59,
      "metadata": {
        "colab": {
          "base_uri": "https://localhost:8080/"
        },
        "id": "pGSyIgNRqpJ6",
        "outputId": "a1d439b1-e9c2-4a31-b81d-d67305931c25"
      },
      "outputs": [
        {
          "output_type": "stream",
          "name": "stdout",
          "text": [
            "Enter Item name Lux\n",
            "Enter Item Price 150\n",
            "Enter Item Qty 2\n",
            "Lux   2   150   300 \n",
            "\n",
            "Enter Item name Tapal\n",
            "Enter Item Price 150\n",
            "Enter Item Qty 3\n",
            "Tapal   3   150   450 \n",
            "\n",
            "Enter Item name Bat\n",
            "Enter Item Price 500\n",
            "Enter Item Qty 2\n",
            "Bat   2   500   1000 \n",
            "\n",
            "Enter Item name ddone\n",
            "Enter Item Price 5\n",
            "Enter Item Qty 2\n",
            "ddone   2   5   10 \n",
            "\n",
            "Enter Item name done\n",
            "Your total bill is: 1760\n"
          ]
        }
      ],
      "source": [
        "def invoice():\n",
        "  sub_total=[]\n",
        "  total_print=[]\n",
        "  net_bill = 0\n",
        "  \n",
        "  for i in range(1000):\n",
        "    item = str(input('Enter Item name '))\n",
        "    if item=='done':\n",
        "      break\n",
        "    else:\n",
        "\n",
        "      item_price = int(input('Enter Item Price '))\n",
        "      item_qty = int(input('Enter Item Qty '))\n",
        "      item_total= (item_qty * item_price)\n",
        "      sub_total.insert(i,item_total)\n",
        "      print(item,' ',item_qty,' ',item_price,' ',item_total,'\\n')\n",
        "  for i in range(0,len(sub_total)):\n",
        "    net_bill =net_bill + sub_total[i]\n",
        "  print('Your total bill is:',net_bill)\n",
        "    \n",
        "invoice()"
      ]
    }
  ]
}