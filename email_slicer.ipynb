{
  "nbformat": 4,
  "nbformat_minor": 0,
  "metadata": {
    "colab": {
      "name": "email_slicer.ipynb",
      "provenance": [],
      "authorship_tag": "ABX9TyMoTwg3aSjK89vjZHO8HRHu",
      "include_colab_link": true
    },
    "kernelspec": {
      "name": "python3",
      "display_name": "Python 3"
    },
    "language_info": {
      "name": "python"
    }
  },
  "cells": [
    {
      "cell_type": "markdown",
      "metadata": {
        "id": "view-in-github",
        "colab_type": "text"
      },
      "source": [
        "<a href=\"https://colab.research.google.com/github/hydermbs/Small-projects/blob/main/email_slicer.ipynb\" target=\"_parent\"><img src=\"https://colab.research.google.com/assets/colab-badge.svg\" alt=\"Open In Colab\"/></a>"
      ]
    },
    {
      "cell_type": "markdown",
      "source": [
        "# **Email Slicer with Python**\n",
        "To create an email slicer with Python, our task is \n",
        "\n",
        "to write a program that can retrieve the username and the domain name of the email. \n",
        "\n",
        "For example, look at the image below \n",
        "\n",
        "which shows the domain and \n",
        "\n",
        "username of “support@thecleverprogrammer.com”:"
      ],
      "metadata": {
        "id": "nPC5rVoCinr5"
      }
    },
    {
      "cell_type": "code",
      "execution_count": 1,
      "metadata": {
        "colab": {
          "base_uri": "https://localhost:8080/"
        },
        "id": "-NIqF1Qvib3R",
        "outputId": "72548e2c-5e93-4f07-9d37-e616fb363b33"
      },
      "outputs": [
        {
          "output_type": "stream",
          "name": "stdout",
          "text": [
            "Enter your Email Address: \n",
            "john@microsoft.com\n",
            "Your User name is john and Domain is microsoft.com\n"
          ]
        }
      ],
      "source": [
        "#take email address as input\n",
        "email = input('Enter your Email Address: \\n').strip()\n",
        "user = email[:email.index('@')]\n",
        "domain = email[email.index('@')+1:]\n",
        "format = f\"Your User name is {user} and Domain is {domain}\"\n",
        "print(format)"
      ]
    }
  ]
}