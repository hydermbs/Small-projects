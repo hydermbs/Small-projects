{
  "nbformat": 4,
  "nbformat_minor": 0,
  "metadata": {
    "colab": {
      "name": "Self Performance Indecator.ipynb",
      "provenance": [],
      "authorship_tag": "ABX9TyOvvgZGdfMS3P+YseHqh2J5",
      "include_colab_link": true
    },
    "kernelspec": {
      "name": "python3",
      "display_name": "Python 3"
    },
    "language_info": {
      "name": "python"
    }
  },
  "cells": [
    {
      "cell_type": "markdown",
      "metadata": {
        "id": "view-in-github",
        "colab_type": "text"
      },
      "source": [
        "<a href=\"https://colab.research.google.com/github/hydermbs/Small-projects/blob/main/Self_Performance_Indecator.ipynb\" target=\"_parent\"><img src=\"https://colab.research.google.com/assets/colab-badge.svg\" alt=\"Open In Colab\"/></a>"
      ]
    },
    {
      "cell_type": "code",
      "source": [
        "#we will create a function name performance so that we don't have to write code for next query\n",
        "def performance():\n",
        "  # first we will take inputs\n",
        "  #number of days in a month i-e (28,29,30,31)\n",
        "  days = int(input('Enter number of days in a month: '))\n",
        "  #number of tasks assign\n",
        "  tasks= []\n",
        "  #number of tasks achieved\n",
        "  achieved = []\n",
        "  #Performance for the month of i-e june-2022\n",
        "  month = str(input('Enter name of the month with year: '))\n",
        "  tot=0\n",
        "  toa=0\n",
        "  print('\\n')\n",
        "#then we take loop\n",
        "  for i in range(1,days):\n",
        "    print('Targeted Tasks For ',i, month,': ')\n",
        "    tasks.insert(i,int(input()))\n",
        "    print('Achieved Tasks For ',i, month,': ')\n",
        "    achieved.insert(i,int(input()))\n",
        "    print(i,month,' Targeted tasks: ',tasks,'Achieved Tasks: ',achieved)\n",
        "    print('\\n')\n",
        "  print('\\n')\n",
        "#here we will calculate whole month performance\n",
        "  for i in range(0, len(tasks)):\n",
        "    tot= tot+tasks[i]\n",
        "  for i in range(0, len(achieved)):\n",
        "    toa= toa+achieved[i]\n",
        "  print('Total tasks were: ',tot,'Achieved task: ',toa)\n",
        "  print('\\n')\n",
        "  achievement = toa/tot*100\n",
        "  print('Total Performace Percentage of ',month,'is',achievement)\n",
        "performance()"
      ],
      "metadata": {
        "colab": {
          "base_uri": "https://localhost:8080/"
        },
        "id": "ejIFYlGbzznD",
        "outputId": "329d8fe7-bacd-4a57-cea3-79157ca06c14"
      },
      "execution_count": null,
      "outputs": [
        {
          "output_type": "stream",
          "name": "stdout",
          "text": [
            "Enter number of days in a month: 3\n",
            "Enter name of the month with year: June-2022\n",
            "\n",
            "\n",
            "Targeted Tasks For  1 June-2022 : \n",
            "15\n",
            "Achieved Tasks For  1 June-2022 : \n",
            "10\n",
            "1 June-2022  Targeted tasks:  [15] Achieved Tasks:  [10]\n",
            "\n",
            "\n",
            "Targeted Tasks For  2 June-2022 : \n",
            "16\n",
            "Achieved Tasks For  2 June-2022 : \n",
            "14\n",
            "2 June-2022  Targeted tasks:  [15, 16] Achieved Tasks:  [10, 14]\n",
            "\n",
            "\n",
            "\n",
            "\n",
            "Total tasks were:  31 Achieved task:  24\n",
            "\n",
            "\n",
            "Total Performace Percentage of  June-2022 is 77.41935483870968\n"
          ]
        }
      ]
    },
    {
      "cell_type": "code",
      "source": [
        "def new(func):\n",
        "  if func == 'new':\n",
        "    return performance()\n",
        "  else:\n",
        "    print('Please Enter new')\n",
        "func=str(input())\n",
        "new(func)"
      ],
      "metadata": {
        "colab": {
          "base_uri": "https://localhost:8080/"
        },
        "id": "9jYDAjV_5o6p",
        "outputId": "753a1a64-e342-418a-bdda-7f4c2b87fc22"
      },
      "execution_count": 1,
      "outputs": [
        {
          "output_type": "stream",
          "name": "stdout",
          "text": [
            "Old\n",
            "Please Enter new\n"
          ]
        }
      ]
    },
    {
      "cell_type": "code",
      "source": [
        ""
      ],
      "metadata": {
        "id": "pWmRT2STqsD5"
      },
      "execution_count": null,
      "outputs": []
    }
  ]
}