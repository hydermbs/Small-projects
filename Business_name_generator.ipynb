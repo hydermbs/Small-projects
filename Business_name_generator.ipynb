{
  "nbformat": 4,
  "nbformat_minor": 0,
  "metadata": {
    "colab": {
      "name": "Business name generator.ipynb",
      "provenance": [],
      "authorship_tag": "ABX9TyPbQgJnWiQBgmUP+Gop2phg",
      "include_colab_link": true
    },
    "kernelspec": {
      "name": "python3",
      "display_name": "Python 3"
    },
    "language_info": {
      "name": "python"
    }
  },
  "cells": [
    {
      "cell_type": "markdown",
      "metadata": {
        "id": "view-in-github",
        "colab_type": "text"
      },
      "source": [
        "<a href=\"https://colab.research.google.com/github/hydermbs/Small-projects/blob/main/Business_name_generator.ipynb\" target=\"_parent\"><img src=\"https://colab.research.google.com/assets/colab-badge.svg\" alt=\"Open In Colab\"/></a>"
      ]
    },
    {
      "cell_type": "code",
      "execution_count": 17,
      "metadata": {
        "colab": {
          "base_uri": "https://localhost:8080/"
        },
        "id": "_bCE19p4dYFY",
        "outputId": "5d4e8505-1b00-45d7-af40-30ac9a5dec0c"
      },
      "outputs": [
        {
          "output_type": "stream",
          "name": "stdout",
          "text": [
            "Enter related keyword: account\n",
            "Enter 2nd Related Keyword: pos\n",
            "Your Business name is: accos\n"
          ]
        }
      ],
      "source": [
        "def business_name_generator(k1,k2):\n",
        "  #middle index of numbers\n",
        "  mi = int(len(k1)/2)\n",
        "  mi2 = int(len(k2)/2)\n",
        "  #get character from 0 to mid index of keyword 1\n",
        "  x = k1[:mi:]\n",
        "  # get character from mid to last of keyword 2\n",
        "  y = k2[mi2:]\n",
        "  #concatenate it\n",
        "  result= x+y\n",
        "  \n",
        "  print('Your Business name is:', result)\n",
        "\n",
        "k1 = str(input('Enter related keyword: '))\n",
        "k2 = str(input('Enter 2nd Related Keyword: '))\n",
        "res = business_name_generator(k1,k2)\n"
      ]
    }
  ]
}