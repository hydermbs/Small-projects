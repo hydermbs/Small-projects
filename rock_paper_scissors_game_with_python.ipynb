{
  "nbformat": 4,
  "nbformat_minor": 0,
  "metadata": {
    "colab": {
      "name": "rock_paper_scissors_game_with_python.ipynb",
      "provenance": [],
      "authorship_tag": "ABX9TyN5vGaLgfpYZKl/oKVM7PXx",
      "include_colab_link": true
    },
    "kernelspec": {
      "name": "python3",
      "display_name": "Python 3"
    },
    "language_info": {
      "name": "python"
    }
  },
  "cells": [
    {
      "cell_type": "markdown",
      "metadata": {
        "id": "view-in-github",
        "colab_type": "text"
      },
      "source": [
        "<a href=\"https://colab.research.google.com/github/hydermbs/Small-projects/blob/main/rock_paper_scissors_game_with_python.ipynb\" target=\"_parent\"><img src=\"https://colab.research.google.com/assets/colab-badge.svg\" alt=\"Open In Colab\"/></a>"
      ]
    },
    {
      "cell_type": "markdown",
      "source": [
        "# **Rock, Paper and Scissors Game with Python**"
      ],
      "metadata": {
        "id": "1_kmHcuUM_4e"
      }
    },
    {
      "cell_type": "code",
      "execution_count": 4,
      "metadata": {
        "colab": {
          "base_uri": "https://localhost:8080/"
        },
        "id": "_52Mqv2IM5t9",
        "outputId": "7067bed0-3f60-447c-f99c-5da3a365c999"
      },
      "outputs": [
        {
          "output_type": "stream",
          "name": "stdout",
          "text": [
            "Rock,Paper,Scissor?: Rock\n",
            "You Win! Computer Lose\n",
            "Rock,Paper,Scissor?: paper\n",
            "You Win!\n",
            "Rock,Paper,Scissor?: scissor\n",
            "You Lose!\n",
            "Rock,Paper,Scissor?: rock\n",
            "You Win! Computer Lose\n",
            "Rock,Paper,Scissor?: papper\n",
            "Rock,Paper,Scissor?: paper\n",
            "You Win!\n",
            "Rock,Paper,Scissor?: end\n",
            "Final Scores:\n",
            "Computer Score is:1\n",
            "Player Score is:4\n"
          ]
        }
      ],
      "source": [
        "import random\n",
        "choices = ['Rock','Paper','Scissor']\n",
        "computer = random.choice(choices)\n",
        "player= False\n",
        "cpu_score = 0\n",
        "player_score= 0\n",
        "\n",
        "while True:\n",
        "  player = input('Rock,Paper,Scissor?: ').capitalize()\n",
        "  #conditions for Rock Paper and Scissor Game\n",
        "  if player =='Computer':\n",
        "    print('Tie!')\n",
        "  elif player =='Rock':\n",
        "    if computer == 'Paper':\n",
        "      print('You Lose! computer Win')\n",
        "      cpu_score+=1\n",
        "    else:\n",
        "      print('You Win! Computer Lose')\n",
        "      player_score+=1\n",
        "  elif player =='Paper':\n",
        "    if computer=='Scissor':\n",
        "      print('You Lose! Cpu cut the paper')\n",
        "      cpu_score+=1\n",
        "    else:\n",
        "      print('You Win!')\n",
        "      player_score+=1\n",
        "  elif player == 'Scissor':\n",
        "    if computer=='Rock':\n",
        "      print('You Lose!')\n",
        "      cpu_score+=1\n",
        "    else:\n",
        "      print('You Win!')\n",
        "      player_score+=1\n",
        "  elif player=='End':\n",
        "    print('Final Scores:')\n",
        "    print(f'Computer Score is:{cpu_score}')\n",
        "    print(f'Player Score is:{player_score}')\n",
        "    break"
      ]
    }
  ]
}