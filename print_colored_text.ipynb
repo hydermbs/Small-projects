{
  "nbformat": 4,
  "nbformat_minor": 0,
  "metadata": {
    "colab": {
      "name": "print_colored_text.ipynb",
      "provenance": [],
      "authorship_tag": "ABX9TyMQqhkW3m6lkYp+6eADoexG",
      "include_colab_link": true
    },
    "kernelspec": {
      "name": "python3",
      "display_name": "Python 3"
    },
    "language_info": {
      "name": "python"
    }
  },
  "cells": [
    {
      "cell_type": "markdown",
      "metadata": {
        "id": "view-in-github",
        "colab_type": "text"
      },
      "source": [
        "<a href=\"https://colab.research.google.com/github/hydermbs/Small-projects/blob/main/print_colored_text.ipynb\" target=\"_parent\"><img src=\"https://colab.research.google.com/assets/colab-badge.svg\" alt=\"Open In Colab\"/></a>"
      ]
    },
    {
      "cell_type": "markdown",
      "source": [
        "# **Print Colored Text**"
      ],
      "metadata": {
        "id": "pq89hxmIuVmw"
      }
    },
    {
      "cell_type": "code",
      "source": [
        "import colorama\n",
        "from colorama import Fore,Back,Style\n",
        "colorama.init(autoreset=True)\n",
        "\n",
        "print(Fore.BLUE+Back.YELLOW+\"My Name is Hyder Khan \")\n",
        "print(Fore.GREEN+Back.CYAN+\"If you like this video, hit the like button\")\n",
        "print(Fore.LIGHTBLUE_EX+\"Also Subscribe The Channel\")"
      ],
      "metadata": {
        "id": "nTfpmDXZvPE2"
      },
      "execution_count": 8,
      "outputs": []
    }
  ]
}